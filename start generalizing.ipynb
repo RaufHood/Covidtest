{
 "cells": [
  {
   "cell_type": "code",
   "execution_count": 2,
   "id": "978047f9",
   "metadata": {},
   "outputs": [],
   "source": [
    "import cv2\n",
    "import numpy as np\n",
    "import matplotlib.pyplot as plt\n",
    "from scipy.signal import find_peaks"
   ]
  },
  {
   "cell_type": "code",
   "execution_count": 28,
   "id": "57af811f",
   "metadata": {},
   "outputs": [],
   "source": [
    "img = cv2.imread('positive.jpg')\n",
    "prediction = \"unknown\"\n",
    "height = 30\n",
    "parameter =[height]\n",
    "gray_img = cv2.cvtColor(img, cv2.COLOR_BGR2GRAY)\n",
    "thresh_img = cv2.threshold(gray_img, 0, 255, cv2.THRESH_BINARY + cv2.THRESH_OTSU)[1]"
   ]
  },
  {
   "cell_type": "code",
   "execution_count": 29,
   "id": "b273c56e",
   "metadata": {},
   "outputs": [],
   "source": [
    "length, width = img[:,:,0].shape\n",
    "center_y, center_x = np.round(length/2), np.round(width/2)\n",
    "factor_y = 1/6\n",
    "factor_x = 1/3\n",
    "m = int((factor_y/2)*length)\n",
    "n = int((factor_x/2)*width)\n",
    "test = img[int(center_y-m) : int(center_y+m), int(center_x-n) : int(center_x+n), 0 ]"
   ]
  },
  {
   "cell_type": "code",
   "execution_count": 30,
   "id": "a27ec0d5",
   "metadata": {},
   "outputs": [
    {
     "data": {
      "text/plain": [
       "<matplotlib.image.AxesImage at 0x27dfc39b430>"
      ]
     },
     "execution_count": 30,
     "metadata": {},
     "output_type": "execute_result"
    },
    {
     "data": {
      "image/png": "[encoded data removed]",
      "text/plain": [
       "<Figure size 432x288 with 1 Axes>"
      ]
     },
     "metadata": {
      "needs_background": "light"
     },
     "output_type": "display_data"
    }
   ],
   "source": [
    "plt.imshow(test, cmap='gray')"
   ]
  },
  {
   "cell_type": "code",
   "execution_count": 31,
   "id": "39512fee",
   "metadata": {},
   "outputs": [
    {
     "name": "stdout",
     "output_type": "stream",
     "text": [
      "36\n"
     ]
    },
    {
     "data": {
      "image/png": "[encoded data removed]",
      "text/plain": [
       "<Figure size 432x288 with 1 Axes>"
      ]
     },
     "metadata": {
      "needs_background": "light"
     },
     "output_type": "display_data"
    }
   ],
   "source": [
    "summ = np.mean(test,1)\n",
    "a = np.max(summ)\n",
    "b=a-summ\n",
    "plt.plot(list(range(0,summ.shape[0])),b,  'ro')\n",
    "print(summ.shape[0])"
   ]
  },
  {
   "cell_type": "code",
   "execution_count": 32,
   "id": "b6d0db90",
   "metadata": {},
   "outputs": [
    {
     "data": {
      "text/plain": [
       "<matplotlib.image.AxesImage at 0x27dfc46e700>"
      ]
     },
     "execution_count": 32,
     "metadata": {},
     "output_type": "execute_result"
    },
    {
     "data": {
      "image/png": "[encoded data removed]",
      "text/plain": [
       "<Figure size 432x288 with 1 Axes>"
      ]
     },
     "metadata": {
      "needs_background": "light"
     },
     "output_type": "display_data"
    }
   ],
   "source": [
    "plt.imshow(test, cmap='gray')"
   ]
  },
  {
   "cell_type": "code",
   "execution_count": 33,
   "id": "ac63bce6",
   "metadata": {},
   "outputs": [],
   "source": [
    "peaks, _ = find_peaks(b, height=parameter[0])"
   ]
  },
  {
   "cell_type": "code",
   "execution_count": 34,
   "id": "d52a4c74",
   "metadata": {},
   "outputs": [
    {
     "name": "stdout",
     "output_type": "stream",
     "text": [
      "[10 24]\n"
     ]
    }
   ],
   "source": [
    "print(peaks)"
   ]
  },
  {
   "cell_type": "code",
   "execution_count": 35,
   "id": "d0b51517",
   "metadata": {},
   "outputs": [
    {
     "data": {
      "text/plain": [
       "[<matplotlib.lines.Line2D at 0x27dfc4e1730>]"
      ]
     },
     "execution_count": 35,
     "metadata": {},
     "output_type": "execute_result"
    },
    {
     "data": {
      "image/png": "[encoded data removed]",
      "text/plain": [
       "<Figure size 432x288 with 1 Axes>"
      ]
     },
     "metadata": {
      "needs_background": "light"
     },
     "output_type": "display_data"
    }
   ],
   "source": [
    "plt.plot(list(range(0,summ.shape[0])),b, 'ro')\n",
    "plt.plot(peaks, b[peaks], 'bo')"
   ]
  },
  {
   "cell_type": "code",
   "execution_count": 36,
   "id": "912f369f",
   "metadata": {},
   "outputs": [
    {
     "name": "stdout",
     "output_type": "stream",
     "text": [
      "positive\n"
     ]
    }
   ],
   "source": [
    "if len(peaks)==2:\n",
    "    prediction = \"positive\"\n",
    "elif len(peaks)==1:\n",
    "    prediction = \"negative\"\n",
    "print(prediction)"
   ]
  },
  {
   "cell_type": "code",
   "execution_count": null,
   "id": "0c8d9aef",
   "metadata": {},
   "outputs": [],
   "source": [
    "#ideas \n",
    "#ritate the probe and then do correlation with the typical stripes actually not a bad idea. -- but usually all tests look different ..\n",
    "#maybe sliding the filter for edge detection from top to bottom\n",
    "\n",
    "\n"
   ]
  }
 ],
 "metadata": {
  "kernelspec": {
   "display_name": "Python 3 (ipykernel)",
   "language": "python",
   "name": "python3"
  },
  "language_info": {
   "codemirror_mode": {
    "name": "ipython",
    "version": 3
   },
   "file_extension": ".py",
   "mimetype": "text/x-python",
   "name": "python",
   "nbconvert_exporter": "python",
   "pygments_lexer": "ipython3",
   "version": "3.8.12"
  }
 },
 "nbformat": 4,
 "nbformat_minor": 5
}
